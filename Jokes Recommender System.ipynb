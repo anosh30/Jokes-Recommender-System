{
  "nbformat": 4,
  "nbformat_minor": 0,
  "metadata": {
    "colab": {
      "provenance": []
    },
    "kernelspec": {
      "name": "python3",
      "display_name": "Python 3"
    },
    "language_info": {
      "name": "python"
    }
  },
  "cells": [
    {
      "cell_type": "code",
      "execution_count": null,
      "metadata": {
        "colab": {
          "base_uri": "https://localhost:8080/"
        },
        "id": "Ii8_1f3C11PD",
        "outputId": "dc999a98-204c-46b5-931f-a21da51c17e5"
      },
      "outputs": [
        {
          "output_type": "stream",
          "name": "stdout",
          "text": [
            "   0    1    2    3    4        5    6        7        8    9    ...   141  \\\n",
            "0   62   99   99   99   99  0.21875   99 -9.28125 -9.28125   99  ...  99.0   \n",
            "1   34   99   99   99   99 -9.68750   99  9.93750  9.53125   99  ...  99.0   \n",
            "2   18   99   99   99   99 -9.84375   99 -9.84375 -7.21875   99  ...  99.0   \n",
            "3   82   99   99   99   99  6.90625   99  4.75000 -5.90625   99  ...  99.0   \n",
            "4   27   99   99   99   99 -0.03125   99 -9.09375 -0.40625   99  ...  99.0   \n",
            "\n",
            "    142   143   144   145   146   147   148   149   150  \n",
            "0  99.0  99.0  99.0  99.0  99.0  99.0  99.0  99.0  99.0  \n",
            "1  99.0  99.0  99.0  99.0  99.0  99.0  99.0  99.0  99.0  \n",
            "2  99.0  99.0  99.0  99.0  99.0  99.0  99.0  99.0  99.0  \n",
            "3  99.0  99.0  99.0  99.0  99.0  99.0  99.0  99.0  99.0  \n",
            "4  99.0  99.0  99.0  99.0  99.0  99.0  99.0  99.0  99.0  \n",
            "\n",
            "[5 rows x 151 columns]\n"
          ]
        }
      ],
      "source": [
        "import pandas as pd\n",
        "\n",
        "\n",
        "dataset = pd.read_excel('FINAL jester 2006-15.xls', header=None)\n",
        "print(dataset.head())\n"
      ]
    },
    {
      "cell_type": "code",
      "source": [
        "dataset.fillna(0, inplace=True)\n"
      ],
      "metadata": {
        "id": "RWjVKqgc5e6g"
      },
      "execution_count": null,
      "outputs": []
    },
    {
      "cell_type": "code",
      "source": [
        "\n",
        "print(dataset.head())\n",
        "\n",
        "\n",
        "print(\"Dataset shape:\", dataset.shape)\n",
        "\n",
        "\n",
        "print(dataset.isnull().sum())\n",
        "\n",
        "\n",
        "print(dataset.columns)\n"
      ],
      "metadata": {
        "colab": {
          "base_uri": "https://localhost:8080/"
        },
        "id": "XxrF1paW5nMJ",
        "outputId": "4fe653cb-d9c9-46e5-d2e9-da0cde71fdd6"
      },
      "execution_count": null,
      "outputs": [
        {
          "output_type": "stream",
          "name": "stdout",
          "text": [
            "   0    1    2    3    4        5    6        7        8    9    ...   141  \\\n",
            "0   62   99   99   99   99  0.21875   99 -9.28125 -9.28125   99  ...  99.0   \n",
            "1   34   99   99   99   99 -9.68750   99  9.93750  9.53125   99  ...  99.0   \n",
            "2   18   99   99   99   99 -9.84375   99 -9.84375 -7.21875   99  ...  99.0   \n",
            "3   82   99   99   99   99  6.90625   99  4.75000 -5.90625   99  ...  99.0   \n",
            "4   27   99   99   99   99 -0.03125   99 -9.09375 -0.40625   99  ...  99.0   \n",
            "\n",
            "    142   143   144   145   146   147   148   149   150  \n",
            "0  99.0  99.0  99.0  99.0  99.0  99.0  99.0  99.0  99.0  \n",
            "1  99.0  99.0  99.0  99.0  99.0  99.0  99.0  99.0  99.0  \n",
            "2  99.0  99.0  99.0  99.0  99.0  99.0  99.0  99.0  99.0  \n",
            "3  99.0  99.0  99.0  99.0  99.0  99.0  99.0  99.0  99.0  \n",
            "4  99.0  99.0  99.0  99.0  99.0  99.0  99.0  99.0  99.0  \n",
            "\n",
            "[5 rows x 151 columns]\n",
            "Dataset shape: (54905, 151)\n",
            "0      0\n",
            "1      0\n",
            "2      0\n",
            "3      0\n",
            "4      0\n",
            "      ..\n",
            "146    0\n",
            "147    0\n",
            "148    0\n",
            "149    0\n",
            "150    0\n",
            "Length: 151, dtype: int64\n",
            "Index([  0,   1,   2,   3,   4,   5,   6,   7,   8,   9,\n",
            "       ...\n",
            "       141, 142, 143, 144, 145, 146, 147, 148, 149, 150],\n",
            "      dtype='int64', length=151)\n"
          ]
        }
      ]
    },
    {
      "cell_type": "code",
      "source": [
        "\n",
        "dataset.fillna(0, inplace=True)\n",
        "\n",
        "dataset.dropna(thresh=int(0.8 * dataset.shape[1]), inplace=True)\n"
      ],
      "metadata": {
        "id": "T-vV7bXA5wU9"
      },
      "execution_count": null,
      "outputs": []
    },
    {
      "cell_type": "code",
      "source": [
        "dataset.columns = ['User_ID'] + [f'Joke_{i}' for i in range(1, dataset.shape[1])]\n"
      ],
      "metadata": {
        "id": "QkcXWzP36CnT"
      },
      "execution_count": null,
      "outputs": []
    },
    {
      "cell_type": "code",
      "source": [
        "active_users = dataset[dataset.iloc[:, 1:].count(axis=1) > 50]\n",
        "print(active_users.shape)\n"
      ],
      "metadata": {
        "colab": {
          "base_uri": "https://localhost:8080/"
        },
        "id": "5vPxWnry6ITc",
        "outputId": "5fc2d9f2-10ec-4656-f5d5-d04b7ca1e352"
      },
      "execution_count": null,
      "outputs": [
        {
          "output_type": "stream",
          "name": "stdout",
          "text": [
            "(54905, 151)\n"
          ]
        }
      ]
    },
    {
      "cell_type": "code",
      "source": [
        "user_item_matrix = active_users.iloc[:, 1:].copy()  # Exclude 'User_ID'\n"
      ],
      "metadata": {
        "id": "-GTuNLoY6L4A"
      },
      "execution_count": null,
      "outputs": []
    },
    {
      "cell_type": "code",
      "source": [
        "from sklearn.model_selection import train_test_split\n",
        "\n",
        "\n",
        "train_data, test_data = train_test_split(user_item_matrix, test_size=0.2, random_state=42)\n",
        "\n",
        "print(\"Train Data Shape:\", train_data.shape)\n",
        "print(\"Test Data Shape:\", test_data.shape)\n"
      ],
      "metadata": {
        "colab": {
          "base_uri": "https://localhost:8080/"
        },
        "id": "s6fppWfl6O_O",
        "outputId": "db6e025e-1717-4058-e3b2-08f9da65b235"
      },
      "execution_count": null,
      "outputs": [
        {
          "output_type": "stream",
          "name": "stdout",
          "text": [
            "Train Data Shape: (43924, 150)\n",
            "Test Data Shape: (10981, 150)\n"
          ]
        }
      ]
    },
    {
      "cell_type": "code",
      "source": [
        "from sklearn.model_selection import train_test_split\n",
        "\n",
        "\n",
        "train_data, test_data = train_test_split(user_item_matrix, test_size=0.2, random_state=42)\n",
        "\n",
        "print(\"Train Data Shape:\", train_data.shape)\n",
        "print(\"Test Data Shape:\", test_data.shape)\n"
      ],
      "metadata": {
        "colab": {
          "base_uri": "https://localhost:8080/"
        },
        "id": "co4nY9h56UUV",
        "outputId": "cb8f409e-0f2a-4f98-88e4-1d6cbe7f9f50"
      },
      "execution_count": null,
      "outputs": [
        {
          "output_type": "stream",
          "name": "stdout",
          "text": [
            "Train Data Shape: (43924, 150)\n",
            "Test Data Shape: (10981, 150)\n"
          ]
        }
      ]
    },
    {
      "cell_type": "code",
      "source": [
        "# Keep only users with more than a certain number of ratings\n",
        "active_users = train_data.loc[train_data.count(axis=1) > 50]  # Adjust threshold as needed\n",
        "train_data = active_users\n"
      ],
      "metadata": {
        "id": "4NwhYxb_6aRJ"
      },
      "execution_count": null,
      "outputs": []
    },
    {
      "cell_type": "code",
      "source": [
        "print('hasan')"
      ],
      "metadata": {
        "colab": {
          "base_uri": "https://localhost:8080/"
        },
        "id": "fyDF5IEh92KB",
        "outputId": "768fc2c9-a8a5-442f-c9c6-59dbec44d12e"
      },
      "execution_count": null,
      "outputs": [
        {
          "output_type": "stream",
          "name": "stdout",
          "text": [
            "hasan\n"
          ]
        }
      ]
    },
    {
      "cell_type": "code",
      "source": [
        "from sklearn.cluster import KMeans\n",
        "from sklearn.preprocessing import StandardScaler\n",
        "\n",
        "# Normalize the data\n",
        "scaler = StandardScaler()\n",
        "train_data_normalized = scaler.fit_transform(train_data.fillna(0))\n",
        "\n",
        "# Perform K-Means clustering\n",
        "n_clusters = 10  # Choose an appropriate number of clusters\n",
        "kmeans = KMeans(n_clusters=n_clusters, random_state=42)\n",
        "user_clusters = kmeans.fit_predict(train_data_normalized)\n",
        "\n",
        "# Choose a specific cluster (e.g., cluster 0) and focus on users in that cluster\n",
        "cluster_0_users = train_data[user_clusters == 0]\n",
        "\n",
        "print(\"Cluster 0 Users Shape:\", cluster_0_users.shape)\n",
        "\n",
        "# Compute similarity within this cluster\n",
        "user_similarity = cosine_similarity(cluster_0_users.fillna(0))\n",
        "print(\"User-User Similarity Matrix Shape:\", user_similarity.shape)\n"
      ],
      "metadata": {
        "colab": {
          "base_uri": "https://localhost:8080/"
        },
        "id": "EwOAcJHQ-KR_",
        "outputId": "08b65aec-d8fc-4934-dd59-57b8fe2417a6"
      },
      "execution_count": null,
      "outputs": [
        {
          "output_type": "stream",
          "name": "stdout",
          "text": [
            "Cluster 0 Users Shape: (17787, 150)\n",
            "User-User Similarity Matrix Shape: (17787, 17787)\n"
          ]
        }
      ]
    },
    {
      "cell_type": "code",
      "source": [
        "def predict_ratings_for_test(test_data, user_similarity, train_data, k):\n",
        "    \"\"\"\n",
        "    Predict ratings only for the test data using K most similar users.\n",
        "\n",
        "    Parameters:\n",
        "    - test_data: Test dataset (subset of users from the user-item matrix).\n",
        "    - user_similarity: Precomputed similarity matrix for all users in train_data.\n",
        "    - train_data: Training dataset (full user-item matrix).\n",
        "    - k: Number of most similar users to consider.\n",
        "\n",
        "    Returns:\n",
        "    - predictions: Predicted ratings for users in the test dataset.\n",
        "    \"\"\"\n",
        "    predictions = []\n",
        "\n",
        "    for user_id in test_data.index:  # Iterate over test user indices\n",
        "        # Find the index of the user in the train_data\n",
        "        try:\n",
        "            user_idx = train_data.index.get_loc(user_id)  # Get the position of user in train_data\n",
        "        except KeyError:\n",
        "            predictions.append(np.zeros(test_data.shape[1]))  # If user not found, append zeros\n",
        "            continue\n",
        "\n",
        "        # Get K most similar users from the similarity matrix\n",
        "        similar_users = np.argsort(user_similarity[user_idx])[-(k + 1):-1]  # Exclude self\n",
        "\n",
        "        # Predict ratings for this user\n",
        "        weighted_ratings = np.dot(user_similarity[user_idx, similar_users], train_data.iloc[similar_users].fillna(0))\n",
        "        similarity_sum = np.sum(user_similarity[user_idx, similar_users])\n",
        "        predicted_ratings = weighted_ratings / similarity_sum if similarity_sum != 0 else 0\n",
        "        predictions.append(predicted_ratings)\n",
        "\n",
        "    return np.array(predictions)\n"
      ],
      "metadata": {
        "id": "ZDuqX2YY-eQ_"
      },
      "execution_count": null,
      "outputs": []
    },
    {
      "cell_type": "code",
      "source": [
        "predicted_ratings_test = predict_ratings_for_test(test_data, user_similarity, train_data, k=5)\n"
      ],
      "metadata": {
        "id": "mpX1pG8I_KUY"
      },
      "execution_count": null,
      "outputs": []
    },
    {
      "cell_type": "code",
      "source": [
        "mae = evaluate_predictions(predicted_ratings_test, test_data)\n",
        "print(f\"Mean Absolute Error (MAE): {mae}\")\n"
      ],
      "metadata": {
        "colab": {
          "base_uri": "https://localhost:8080/"
        },
        "id": "ph4kTHng-P7n",
        "outputId": "1c1ba3df-0eaa-4096-cd4b-407ca7fb5259"
      },
      "execution_count": null,
      "outputs": [
        {
          "output_type": "stream",
          "name": "stdout",
          "text": [
            "Mean Absolute Error (MAE): 92.19930813190932\n"
          ]
        }
      ]
    },
    {
      "cell_type": "code",
      "source": [
        "import numpy as np\n",
        "\n",
        "def random_recommender(test_data, train_data, k):\n",
        "    \"\"\"\n",
        "    Predict ratings using a random baseline.\n",
        "\n",
        "    Parameters:\n",
        "    - test_data: Test dataset (subset of users from the user-item matrix).\n",
        "    - train_data: Training dataset (full user-item matrix).\n",
        "    - k: Number of random users to consider.\n",
        "\n",
        "    Returns:\n",
        "    - random_predictions: Randomly predicted ratings for test users.\n",
        "    \"\"\"\n",
        "    random_predictions = []\n",
        "\n",
        "    for user_id in test_data.index:  # Iterate over test user indices\n",
        "        # Select K random users\n",
        "        random_users = np.random.choice(train_data.index, k, replace=False)\n",
        "\n",
        "        # Average their ratings\n",
        "        random_ratings = np.mean(train_data.loc[random_users].fillna(0), axis=0)\n",
        "        random_predictions.append(random_ratings)\n",
        "\n",
        "    return np.array(random_predictions)\n",
        "\n",
        "# Generate predictions with the random recommender\n",
        "random_predictions_test = random_recommender(test_data, train_data, k=5)\n",
        "\n",
        "# Evaluate the random recommender\n",
        "random_mae = evaluate_predictions(random_predictions_test, test_data)\n",
        "print(f\"Random Recommender MAE: {random_mae}\")\n"
      ],
      "metadata": {
        "colab": {
          "base_uri": "https://localhost:8080/"
        },
        "id": "xjAs8QGEAGxg",
        "outputId": "b17fd4c9-0fc7-434a-dc31-7453d42118fb"
      },
      "execution_count": null,
      "outputs": [
        {
          "output_type": "stream",
          "name": "stdout",
          "text": [
            "Random Recommender MAE: 3.7237651302229713\n"
          ]
        }
      ]
    },
    {
      "cell_type": "code",
      "source": [
        "k_values = [3, 5, 10, 20, 50]  # Test different K values\n",
        "mae_scores = []\n",
        "\n",
        "for k in k_values:\n",
        "    predicted_ratings_test = predict_ratings_for_test(test_data, user_similarity, train_data, k)\n",
        "    mae = evaluate_predictions(predicted_ratings_test, test_data)\n",
        "    mae_scores.append(mae)\n",
        "    print(f\"K={k}, MAE={mae}\")\n",
        "\n",
        "# Plot MAE vs K\n",
        "import matplotlib.pyplot as plt\n",
        "\n",
        "plt.plot(k_values, mae_scores, marker='o')\n",
        "plt.xlabel('Number of Similar Users (K)')\n",
        "plt.ylabel('Mean Absolute Error (MAE)')\n",
        "plt.title('Optimal K Selection')\n",
        "plt.show()\n"
      ],
      "metadata": {
        "colab": {
          "base_uri": "https://localhost:8080/",
          "height": 559
        },
        "id": "Iy289gwiAjrc",
        "outputId": "cf355f0d-cbf7-4733-fb5b-49f443257134"
      },
      "execution_count": null,
      "outputs": [
        {
          "output_type": "stream",
          "name": "stdout",
          "text": [
            "K=3, MAE=92.19930813190932\n",
            "K=5, MAE=92.19930813190932\n",
            "K=10, MAE=92.19930813190932\n",
            "K=20, MAE=92.19930813190932\n",
            "K=50, MAE=92.19930813190932\n"
          ]
        },
        {
          "output_type": "display_data",
          "data": {
            "text/plain": [
              "<Figure size 640x480 with 1 Axes>"
            ],
            "image/png": "[encoded data removed]"
          },
          "metadata": {}
        }
      ]
    },
    {
      "cell_type": "code",
      "source": [
        "print(np.unique(predicted_ratings_test))\n"
      ],
      "metadata": {
        "colab": {
          "base_uri": "https://localhost:8080/"
        },
        "id": "rPG-7N2VAyMG",
        "outputId": "f7b3a953-2e51-432a-b563-a1953aee799f"
      },
      "execution_count": null,
      "outputs": [
        {
          "output_type": "stream",
          "name": "stdout",
          "text": [
            "[0.]\n"
          ]
        }
      ]
    },
    {
      "cell_type": "code",
      "source": [
        "print(\"User Similarity Matrix Sample:\\n\", user_similarity[:5, :5])\n",
        "print(\"User Similarity Matrix Min:\", user_similarity.min())\n",
        "print(\"User Similarity Matrix Max:\", user_similarity.max())\n"
      ],
      "metadata": {
        "colab": {
          "base_uri": "https://localhost:8080/"
        },
        "id": "J1iG7AcDAm3U",
        "outputId": "69880fd9-dd28-49a8-f7e1-1bb6c38ddbd7"
      },
      "execution_count": null,
      "outputs": [
        {
          "output_type": "stream",
          "name": "stdout",
          "text": [
            "User Similarity Matrix Sample:\n",
            " [[1.         0.99994079 0.9799114  0.98085865 0.98953578]\n",
            " [0.99994079 1.         0.98000645 0.98085891 0.98955739]\n",
            " [0.9799114  0.98000645 1.         0.96604904 0.96890075]\n",
            " [0.98085865 0.98085891 0.96604904 1.         0.96978714]\n",
            " [0.98953578 0.98955739 0.96890075 0.96978714 1.        ]]\n",
            "User Similarity Matrix Min: 0.7908595014637931\n",
            "User Similarity Matrix Max: 1.0000000000000042\n"
          ]
        }
      ]
    },
    {
      "cell_type": "code",
      "source": [
        "# Normalize similarity matrix to make it relative\n",
        "user_similarity_normalized = (user_similarity - user_similarity.min()) / (user_similarity.max() - user_similarity.min())\n",
        "print(\"Normalized User Similarity Matrix Sample:\\n\", user_similarity_normalized[:5, :5])\n"
      ],
      "metadata": {
        "colab": {
          "base_uri": "https://localhost:8080/"
        },
        "id": "49ZbTpMnBsmf",
        "outputId": "de717aeb-84f4-4130-8a75-b347cf6aa752"
      },
      "execution_count": null,
      "outputs": [
        {
          "output_type": "stream",
          "name": "stdout",
          "text": [
            "Normalized User Similarity Matrix Sample:\n",
            " [[1.         0.99971691 0.90394686 0.90847614 0.94996558]\n",
            " [0.99971691 1.         0.90440133 0.90847738 0.95006895]\n",
            " [0.90394686 0.90440133 1.         0.83766436 0.85129971]\n",
            " [0.90847614 0.90847738 0.83766436 1.         0.85553798]\n",
            " [0.94996558 0.95006895 0.85129971 0.85553798 1.        ]]\n"
          ]
        }
      ]
    },
    {
      "cell_type": "code",
      "source": [
        "# Compute overlap between users\n",
        "overlap = train_data.T.dot(train_data.notnull())\n",
        "print(\"Overlap Matrix Sample:\\n\", overlap.iloc[:5, :5])\n",
        "\n",
        "# Check average overlap\n",
        "avg_overlap = overlap.mean().mean()\n",
        "print(f\"Average Ratings Overlap: {avg_overlap}\")\n"
      ],
      "metadata": {
        "colab": {
          "base_uri": "https://localhost:8080/"
        },
        "id": "XpOq-d9eCbkG",
        "outputId": "42aa1899-dee5-423b-bc3b-498110692d57"
      },
      "execution_count": null,
      "outputs": [
        {
          "output_type": "stream",
          "name": "stdout",
          "text": [
            "Overlap Matrix Sample:\n",
            "                Joke_1         Joke_2         Joke_3         Joke_4  \\\n",
            "Joke_1      1408671.0      1408671.0      1408671.0      1408671.0   \n",
            "Joke_2      1408671.0      1408671.0      1408671.0      1408671.0   \n",
            "Joke_3      1408671.0      1408671.0      1408671.0      1408671.0   \n",
            "Joke_4      1408671.0      1408671.0      1408671.0      1408671.0   \n",
            "Joke_5  1398649.71875  1398649.71875  1398649.71875  1398649.71875   \n",
            "\n",
            "               Joke_5  \n",
            "Joke_1      1408671.0  \n",
            "Joke_2      1408671.0  \n",
            "Joke_3      1408671.0  \n",
            "Joke_4      1408671.0  \n",
            "Joke_5  1398649.71875  \n",
            "Average Ratings Overlap: 1307519.1052083352\n"
          ]
        }
      ]
    },
    {
      "cell_type": "code",
      "source": [
        "import numpy as np\n",
        "import pandas as pd\n",
        "from sklearn.metrics.pairwise import cosine_similarity\n",
        "from sklearn.model_selection import train_test_split\n",
        "from sklearn.metrics import mean_absolute_error\n",
        "\n",
        "# Load Dataset (replace 'path_to_dataset' with actual file path)\n",
        "dataset = pd.read_excel('FINAL jester 2006-15.xls', header=None)\n",
        "\n",
        "# Data Preprocessing\n",
        "# Assuming the first column is user ID and the rest are joke ratings\n",
        "dataset.columns = ['User_ID'] + [f'Joke_{i}' for i in range(1, dataset.shape[1])]\n",
        "dataset.set_index('User_ID', inplace=True)\n",
        "\n",
        "# Fill missing values with 0 (or another approach if needed)\n",
        "dataset.fillna(0, inplace=True)\n",
        "\n",
        "# Split into train and test sets\n",
        "train_data, test_data = train_test_split(dataset, test_size=0.2, random_state=42)\n",
        "\n",
        "# Compute User-User Similarity Matrix\n",
        "normalized_train_data = train_data.sub(train_data.mean(axis=1), axis=0).fillna(0)\n",
        "user_similarity = cosine_similarity(normalized_train_data)\n",
        "\n",
        "# Regularized Prediction Function\n",
        "def predict_with_regularization(user_item_matrix, user_similarity, k, lambda_reg=0.1):\n",
        "    \"\"\"\n",
        "    Predict ratings using a regularized collaborative filtering approach.\n",
        "    \"\"\"\n",
        "    predictions = np.zeros(user_item_matrix.shape)\n",
        "\n",
        "    for i in range(user_item_matrix.shape[0]):\n",
        "        similar_users = np.argsort(user_similarity[i])[-(k + 1):-1]  # Exclude self\n",
        "        similarity_sum = np.sum(user_similarity[i, similar_users] + lambda_reg)\n",
        "\n",
        "        if similarity_sum == 0:\n",
        "            predictions[i] = 0  # Default to zero if no similarities\n",
        "        else:\n",
        "            weighted_ratings = np.dot(user_similarity[i, similar_users] + lambda_reg, user_item_matrix.iloc[similar_users].fillna(0))\n",
        "            predictions[i] = weighted_ratings / similarity_sum\n",
        "\n",
        "    return predictions\n",
        "\n",
        "# Generate Predictions\n",
        "predicted_ratings_test = predict_with_regularization(\n",
        "    user_item_matrix=test_data,\n",
        "    user_similarity=user_similarity,\n",
        "    k=5,\n",
        "    lambda_reg=0.1\n",
        ")\n",
        "\n",
        "# Evaluation Function\n",
        "def evaluate_predictions(predictions, test_data):\n",
        "    \"\"\"\n",
        "    Evaluate predictions using Mean Absolute Error (MAE).\n",
        "    \"\"\"\n",
        "    mae_list = []\n",
        "    for i in range(test_data.shape[0]):\n",
        "        actual_ratings = test_data.iloc[i].values\n",
        "        predicted_ratings = predictions[i]\n",
        "        mae_list.append(mean_absolute_error(actual_ratings, predicted_ratings))\n",
        "\n",
        "    return np.mean(mae_list)\n",
        "\n",
        "# Evaluate MAE\n",
        "mae = evaluate_predictions(predicted_ratings_test, test_data)\n",
        "print(f\"Mean Absolute Error (MAE): {mae}\")\n"
      ],
      "metadata": {
        "id": "aEpG2F_XCek9"
      },
      "execution_count": null,
      "outputs": []
    }
  ]
}